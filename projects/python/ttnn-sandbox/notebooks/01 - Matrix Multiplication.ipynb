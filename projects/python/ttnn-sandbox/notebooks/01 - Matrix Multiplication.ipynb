{
 "cells": [
  {
   "cell_type": "markdown",
   "id": "df9d7edd",
   "metadata": {},
   "source": [
    "# Matrix Multiplication Example\n",
    "Here's how you do matrix multiplication with `ttnn` and Tenstorrent hardware."
   ]
  },
  {
   "cell_type": "markdown",
   "id": "1f32f15d",
   "metadata": {},
   "source": [
    "## Import Libraries"
   ]
  },
  {
   "cell_type": "code",
   "execution_count": 16,
   "id": "443cda63",
   "metadata": {},
   "outputs": [],
   "source": [
    "import torch\n",
    "import ttnn"
   ]
  },
  {
   "cell_type": "markdown",
   "id": "542307ba",
   "metadata": {},
   "source": [
    "## Create Tensors\n",
    "We'll create `torch` tensors, then convert them to `ttnn` tensors with `TILE_LAYOUT` so that we can pass them to the device and perform a `matmul`."
   ]
  },
  {
   "cell_type": "code",
   "execution_count": 17,
   "id": "a3471433",
   "metadata": {},
   "outputs": [
    {
     "data": {
      "text/plain": [
       "ttnn.Tensor([[10.00000, 12.00000, 33.00000]], shape=Shape([1, 3]), dtype=DataType::BFLOAT16, layout=Layout::TILE)"
      ]
     },
     "execution_count": 17,
     "metadata": {},
     "output_type": "execute_result"
    }
   ],
   "source": [
    "torch_tensor_a = torch.tensor([[10, 12, 33]], dtype=torch.float32)\n",
    "ttnn_tensor_a = ttnn.from_torch(torch_tensor_a, dtype=ttnn.bfloat16, layout=ttnn.TILE_LAYOUT)\n",
    "\n",
    "ttnn_tensor_a"
   ]
  },
  {
   "cell_type": "code",
   "execution_count": 18,
   "id": "3133e40b",
   "metadata": {},
   "outputs": [
    {
     "data": {
      "text/plain": [
       "ttnn.Tensor([[10.00000],\n",
       "             [12.00000],\n",
       "             [33.00000]], shape=Shape([3, 1]), dtype=DataType::BFLOAT16, layout=Layout::TILE)"
      ]
     },
     "execution_count": 18,
     "metadata": {},
     "output_type": "execute_result"
    }
   ],
   "source": [
    "torch_tensor_b = torch.tensor([[10], [12], [33]], dtype=torch.float32)\n",
    "ttnn_tensor_b = ttnn.from_torch(torch_tensor_b, dtype=ttnn.bfloat16, layout=ttnn.TILE_LAYOUT)\n",
    "\n",
    "ttnn_tensor_b"
   ]
  },
  {
   "cell_type": "markdown",
   "id": "d8f5bbd7",
   "metadata": {},
   "source": [
    "## Open a Device\n",
    "We get a handle to the device and then send the tensors to the device memory."
   ]
  },
  {
   "cell_type": "code",
   "execution_count": 19,
   "id": "4ad29c5c",
   "metadata": {},
   "outputs": [
    {
     "name": "stdout",
     "output_type": "stream",
     "text": [
      "                  Metal | INFO     | Initializing device 0. Program cache is NOT enabled\n",
      "                  Metal | INFO     | AI CLK for device 0 is:   1000 MHz\n"
     ]
    }
   ],
   "source": [
    "device_id = 0\n",
    "device = ttnn.open_device(device_id=device_id)"
   ]
  },
  {
   "cell_type": "code",
   "execution_count": 20,
   "id": "2117b1b0",
   "metadata": {},
   "outputs": [],
   "source": [
    "ttnn_tensor_a = ttnn.to_device(ttnn_tensor_a, device)\n",
    "ttnn_tensor_b = ttnn.to_device(ttnn_tensor_b, device)"
   ]
  },
  {
   "cell_type": "markdown",
   "id": "31c2d60a",
   "metadata": {},
   "source": [
    "## Perform the Matrix Multiplication\n",
    "Perform the matrix multiplication using `matmul`"
   ]
  },
  {
   "cell_type": "code",
   "execution_count": 21,
   "id": "0c0d7923",
   "metadata": {},
   "outputs": [
    {
     "data": {
      "text/plain": [
       "ttnn.Tensor([[1336.00000]], shape=Shape([1, 1]), dtype=DataType::BFLOAT16, layout=Layout::TILE)"
      ]
     },
     "execution_count": 21,
     "metadata": {},
     "output_type": "execute_result"
    }
   ],
   "source": [
    "ttnn_result = ttnn.matmul(ttnn_tensor_a, ttnn_tensor_b)\n",
    "\n",
    "ttnn_result"
   ]
  },
  {
   "cell_type": "markdown",
   "id": "3c115ec5",
   "metadata": {},
   "source": [
    "## Close the Device (Important!)\n",
    "\n",
    "When opening the device, we get a handle to it, make sure to clean up and close the device when we are done so that resources don't hang."
   ]
  },
  {
   "cell_type": "code",
   "execution_count": 22,
   "id": "2660eca5",
   "metadata": {},
   "outputs": [
    {
     "name": "stdout",
     "output_type": "stream",
     "text": [
      "                  Metal | INFO     | Closing device 0\n",
      "                  Metal | INFO     | Disabling and clearing program cache on device 0\n"
     ]
    }
   ],
   "source": [
    "ttnn.close_device(device)"
   ]
  },
  {
   "cell_type": "code",
   "execution_count": null,
   "id": "9307170c",
   "metadata": {},
   "outputs": [],
   "source": []
  }
 ],
 "metadata": {
  "kernelspec": {
   "display_name": ".venv",
   "language": "python",
   "name": "python3"
  },
  "language_info": {
   "codemirror_mode": {
    "name": "ipython",
    "version": 3
   },
   "file_extension": ".py",
   "mimetype": "text/x-python",
   "name": "python",
   "nbconvert_exporter": "python",
   "pygments_lexer": "ipython3",
   "version": "3.10.12"
  }
 },
 "nbformat": 4,
 "nbformat_minor": 5
}
